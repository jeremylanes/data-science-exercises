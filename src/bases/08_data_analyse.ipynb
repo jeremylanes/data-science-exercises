{
 "cells": [
  {
   "cell_type": "markdown",
   "id": "eba10b62-0007-4cd2-8cdf-0d7184a1c115",
   "metadata": {},
   "source": [
    "# Analyse The Data"
   ]
  },
  {
   "cell_type": "code",
   "execution_count": 1,
   "id": "fdf59d65-b098-46c6-a39c-6ac28b3741ff",
   "metadata": {},
   "outputs": [],
   "source": [
    "import pandas as pd\n",
    "df = pd.read_csv('../data.csv')"
   ]
  },
  {
   "cell_type": "code",
   "execution_count": 2,
   "id": "891e93e5-8d98-4473-b686-4a931b63ba89",
   "metadata": {},
   "outputs": [
    {
     "data": {
      "text/plain": [
       "count      1000\n",
       "unique      528\n",
       "top       $3.73\n",
       "freq          8\n",
       "Name: price_paid, dtype: object"
      ]
     },
     "execution_count": 2,
     "metadata": {},
     "output_type": "execute_result"
    }
   ],
   "source": [
    "df.price_paid.describe()"
   ]
  },
  {
   "cell_type": "code",
   "execution_count": 3,
   "id": "64ecee1a-c09f-4b11-986c-6bd82eee1408",
   "metadata": {},
   "outputs": [],
   "source": [
    "df.price_paid = df.price_paid.apply(lambda x: x.replace('$', ''))\n",
    "df.price_paid = df.price_paid.astype(float)"
   ]
  },
  {
   "cell_type": "code",
   "execution_count": 4,
   "id": "5cb342af-d467-4114-a52f-f831c3950608",
   "metadata": {},
   "outputs": [
    {
     "data": {
      "text/plain": [
       "np.float64(6.461930000000001)"
      ]
     },
     "execution_count": 4,
     "metadata": {},
     "output_type": "execute_result"
    }
   ],
   "source": [
    "df.price_paid.mean()"
   ]
  },
  {
   "cell_type": "code",
   "execution_count": 5,
   "id": "d11ded0a-6c0a-4981-9401-27055f70b990",
   "metadata": {},
   "outputs": [
    {
     "data": {
      "text/plain": [
       "np.float64(6461.93)"
      ]
     },
     "execution_count": 5,
     "metadata": {},
     "output_type": "execute_result"
    }
   ],
   "source": [
    "df.price_paid.sum()"
   ]
  },
  {
   "cell_type": "code",
   "execution_count": 6,
   "id": "0fe5bd7b-b24f-452a-8536-8f1bcf7bd50e",
   "metadata": {},
   "outputs": [
    {
     "data": {
      "text/plain": [
       "np.float64(3.0)"
      ]
     },
     "execution_count": 6,
     "metadata": {},
     "output_type": "execute_result"
    }
   ],
   "source": [
    " df.price_paid.min()"
   ]
  },
  {
   "cell_type": "code",
   "execution_count": 7,
   "id": "d9f3c052-2ecf-49c1-bf34-2feb64f442ca",
   "metadata": {},
   "outputs": [
    {
     "data": {
      "text/plain": [
       "np.float64(10.0)"
      ]
     },
     "execution_count": 7,
     "metadata": {},
     "output_type": "execute_result"
    }
   ],
   "source": [
    "df.price_paid.max()"
   ]
  },
  {
   "cell_type": "code",
   "execution_count": 8,
   "id": "0776a8c3-a4d4-47bc-956e-9da8e1225a52",
   "metadata": {},
   "outputs": [
    {
     "data": {
      "text/plain": [
       "['Canada', 'United States', 'Morocco', 'France', nan]"
      ]
     },
     "execution_count": 8,
     "metadata": {},
     "output_type": "execute_result"
    }
   ],
   "source": [
    "df.country.unique().tolist()"
   ]
  },
  {
   "cell_type": "code",
   "execution_count": 9,
   "id": "b8b843fa-7259-499b-8575-5a3fa31d24a3",
   "metadata": {},
   "outputs": [
    {
     "data": {
      "text/plain": [
       "array([ 5.36,  8.32,  3.73,  3.7 ,  9.24,  5.82,  6.29,  3.01,  9.05,\n",
       "        5.71,  3.15,  5.3 ,  5.97,  4.53,  4.1 ,  6.44,  3.16,  4.9 ,\n",
       "        5.55,  4.86,  6.72,  9.79,  8.23,  9.9 ,  5.88,  3.06,  9.52,\n",
       "        6.76,  7.81,  6.02,  5.  ,  5.34,  4.67,  6.22,  3.37,  9.5 ,\n",
       "        4.54,  4.04,  3.45,  4.96,  5.29,  8.11,  7.8 ,  4.21,  9.81,\n",
       "        9.7 ,  9.71,  3.88,  3.4 ,  9.23,  6.57,  9.99,  6.94,  4.26,\n",
       "        9.13,  6.66,  9.35,  3.04,  6.17,  7.68,  4.23,  4.69,  7.56,\n",
       "        5.92,  4.65,  6.79,  8.71,  8.96,  4.39,  7.54,  5.83,  6.39,\n",
       "        9.6 ,  9.68,  9.86,  5.53,  3.51,  8.43,  6.89,  6.68,  4.66,\n",
       "        4.95,  6.77,  7.48,  7.23,  8.12,  5.8 ,  6.06,  4.71,  7.78,\n",
       "        9.67,  9.93,  4.56,  4.42,  4.12,  4.32,  8.83,  3.18,  8.86,\n",
       "        7.2 ,  3.72,  7.67,  8.68,  9.58,  7.91,  7.65,  8.77,  7.17,\n",
       "        9.47,  8.97,  6.07,  9.89,  8.85,  9.37,  7.03,  5.9 ,  4.  ,\n",
       "        6.88,  8.75,  3.03,  6.64,  8.65,  5.98,  8.69,  4.46,  4.24,\n",
       "        8.79,  4.82,  8.16,  7.19,  5.87,  7.05,  3.93,  5.33,  6.09,\n",
       "        5.72,  3.12,  8.45,  6.86,  4.74,  7.98,  8.7 ,  4.57,  4.38,\n",
       "        6.8 ,  6.53,  7.27,  7.75,  3.95, 10.  ,  6.96,  6.58,  5.56,\n",
       "        6.31,  5.49,  6.71,  6.93,  4.92,  9.02,  5.91,  9.27,  4.97,\n",
       "        7.02,  3.1 ,  4.25,  6.16,  4.47,  6.73,  9.32,  7.41,  9.51,\n",
       "        8.88,  5.47,  4.2 ,  9.38,  7.44,  9.1 ,  6.24,  4.43,  3.21,\n",
       "        8.82,  5.68,  6.14,  7.32,  8.62,  5.75,  3.96,  8.21,  3.52,\n",
       "        8.22,  9.45,  7.82,  3.05,  4.61,  7.83,  7.88,  4.48,  4.4 ,\n",
       "        8.37,  6.21,  9.16,  3.34,  8.24,  3.23,  9.3 ,  7.62,  8.74,\n",
       "        8.63,  3.78,  8.15,  3.87,  9.33,  8.02,  8.61,  3.17,  9.83,\n",
       "        4.44,  3.29,  6.11,  4.93,  6.05,  5.63,  9.98,  5.84,  8.19,\n",
       "        3.81,  5.86,  8.84,  3.33,  8.89,  8.34,  6.47,  8.66,  9.57,\n",
       "        3.48,  7.71,  8.27,  3.63,  8.28,  7.04,  3.84,  5.21,  8.33,\n",
       "        9.12,  3.09,  9.19,  8.25,  9.92,  3.79,  8.31,  9.43,  7.72,\n",
       "        3.44,  4.18,  7.12,  7.13,  4.84,  7.3 ,  7.89,  9.04,  4.03,\n",
       "        4.98,  6.7 ,  4.34,  6.32,  5.06,  9.31,  4.3 ,  3.56,  8.41,\n",
       "        6.49,  7.18,  6.75,  4.72,  3.68,  3.6 ,  9.85,  9.88,  6.46,\n",
       "        7.93,  3.53,  7.79,  4.16,  5.54,  5.35,  4.91,  6.5 ,  6.84,\n",
       "        8.17,  3.27,  5.27,  5.62,  3.66,  9.4 ,  5.66,  9.96,  4.76,\n",
       "        6.34,  8.64,  5.65,  5.08,  5.5 ,  6.6 ,  5.45,  8.95,  3.08,\n",
       "        9.97,  7.38,  6.98,  6.37,  4.31,  5.16,  7.9 ,  9.2 ,  8.01,\n",
       "        7.31,  7.66,  8.46,  3.14,  6.35,  3.2 ,  8.08,  7.28,  5.57,\n",
       "        3.49,  9.18,  7.22,  9.06,  6.55,  5.79,  3.25,  7.99,  8.18,\n",
       "        5.15,  6.23,  9.36,  5.05,  3.57,  9.21,  7.52,  3.28,  8.54,\n",
       "        3.8 ,  4.51,  9.75,  7.14,  8.4 ,  7.08,  8.49,  3.02,  6.27,\n",
       "        7.36,  4.01,  6.91,  8.38,  4.78,  8.94,  8.35,  7.96,  7.85,\n",
       "        8.1 ,  6.52,  6.2 ,  4.83,  9.08,  5.32,  7.16,  3.38,  5.61,\n",
       "        8.8 ,  4.22,  9.82,  9.29,  5.48,  5.24,  7.5 ,  7.95,  3.98,\n",
       "        3.74,  4.87,  3.86,  4.17,  3.36,  5.6 ,  6.51,  4.55,  4.36,\n",
       "        7.45,  8.55,  3.77,  3.46,  8.92,  6.4 ,  3.92,  5.1 ,  9.42,\n",
       "        9.09,  5.81,  6.43,  6.48,  6.12,  6.18,  3.31,  8.6 ,  6.85,\n",
       "        4.02,  3.35,  8.42,  5.89,  9.72,  3.61,  7.39,  9.84,  3.22,\n",
       "        4.35,  4.62,  4.49,  4.5 ,  8.72,  6.63,  4.7 ,  6.59,  3.75,\n",
       "        5.2 ,  3.59,  7.09,  5.78,  5.26,  6.62,  4.88,  5.4 ,  3.94,\n",
       "        6.99,  3.91,  3.54,  9.53,  9.65,  3.89,  9.77,  5.25,  3.58,\n",
       "        9.62,  3.69,  4.85,  3.55,  5.09,  4.13,  3.  ,  3.41,  5.69,\n",
       "        4.79,  9.95,  5.76,  6.87,  8.44,  6.19,  7.76,  9.63,  7.43,\n",
       "        4.68,  5.73,  5.42,  7.25,  9.11,  5.44,  5.7 ,  9.8 ,  5.03,\n",
       "        6.81,  5.18,  7.34,  4.05,  4.27,  5.37,  8.9 ,  7.51,  8.48,\n",
       "        3.9 ,  9.26,  3.11,  5.19,  5.51,  8.99,  4.07,  9.01,  8.53,\n",
       "        6.67,  6.56,  6.92,  9.15,  5.67,  5.96,  8.09,  5.11,  7.4 ,\n",
       "        7.33,  5.43,  6.3 ,  5.28,  5.02,  5.93,  9.78,  9.28,  3.5 ,\n",
       "        9.22,  6.15,  9.69,  7.97,  5.94,  9.76,  3.83,  4.73,  6.95,\n",
       "        3.32,  9.03,  4.64,  7.59,  3.3 ,  7.37,  6.13,  7.7 ,  3.07,\n",
       "        6.69,  3.71,  9.55,  4.33,  6.1 ,  4.59])"
      ]
     },
     "execution_count": 9,
     "metadata": {},
     "output_type": "execute_result"
    }
   ],
   "source": [
    "df.price_paid.unique()"
   ]
  },
  {
   "cell_type": "code",
   "execution_count": 10,
   "id": "a0d2f49e-cf12-4382-9b89-5fcd850d62bf",
   "metadata": {},
   "outputs": [
    {
     "data": {
      "text/plain": [
       "country\n",
       "France           408\n",
       "United States    333\n",
       "Canada           161\n",
       "Morocco           54\n",
       "Name: count, dtype: int64"
      ]
     },
     "execution_count": 10,
     "metadata": {},
     "output_type": "execute_result"
    }
   ],
   "source": [
    "df.country.value_counts()"
   ]
  },
  {
   "cell_type": "code",
   "execution_count": 11,
   "id": "23a17cf6-5c01-461b-aa99-0cf31745b5fb",
   "metadata": {},
   "outputs": [
    {
     "data": {
      "text/plain": [
       "gender\n",
       "Female    0.529538\n",
       "Male      0.470462\n",
       "Name: proportion, dtype: float64"
      ]
     },
     "execution_count": 11,
     "metadata": {},
     "output_type": "execute_result"
    }
   ],
   "source": [
    "df.gender.value_counts(normalize=True)"
   ]
  },
  {
   "cell_type": "code",
   "execution_count": 12,
   "id": "53bac9b5-07c0-4147-a37f-35a773129129",
   "metadata": {},
   "outputs": [],
   "source": [
    "# df.drop(['email', 'date', 'first_name', 'last_name', 'ip_address', 'gender'], axis=1, inplace=True)"
   ]
  },
  {
   "cell_type": "code",
   "execution_count": 16,
   "id": "0aaf0d8d-d294-4aa9-99d1-2adf84f2d4b6",
   "metadata": {},
   "outputs": [
    {
     "data": {
      "text/html": [
       "<div>\n",
       "<style scoped>\n",
       "    .dataframe tbody tr th:only-of-type {\n",
       "        vertical-align: middle;\n",
       "    }\n",
       "\n",
       "    .dataframe tbody tr th {\n",
       "        vertical-align: top;\n",
       "    }\n",
       "\n",
       "    .dataframe thead th {\n",
       "        text-align: right;\n",
       "    }\n",
       "</style>\n",
       "<table border=\"1\" class=\"dataframe\">\n",
       "  <thead>\n",
       "    <tr style=\"text-align: right;\">\n",
       "      <th></th>\n",
       "      <th>id</th>\n",
       "      <th>date</th>\n",
       "      <th>first_name</th>\n",
       "      <th>last_name</th>\n",
       "      <th>email</th>\n",
       "      <th>gender</th>\n",
       "      <th>ip_address</th>\n",
       "      <th>price_paid</th>\n",
       "      <th>tax</th>\n",
       "    </tr>\n",
       "    <tr>\n",
       "      <th>country</th>\n",
       "      <th></th>\n",
       "      <th></th>\n",
       "      <th></th>\n",
       "      <th></th>\n",
       "      <th></th>\n",
       "      <th></th>\n",
       "      <th></th>\n",
       "      <th></th>\n",
       "      <th></th>\n",
       "    </tr>\n",
       "  </thead>\n",
       "  <tbody>\n",
       "    <tr>\n",
       "      <th>Canada</th>\n",
       "      <td>70365</td>\n",
       "      <td>03/28/202103/19/202103/14/202103/09/202103/11/...</td>\n",
       "      <td>MarylinHindaAvaWaylonLiefJaniceSibealMendieMur...</td>\n",
       "      <td>AldersHarridgeKencottHeersemaWoodcraftMorillas...</td>\n",
       "      <td>malders0@shop-pro.jphharridge1@gnu.orgakencott...</td>\n",
       "      <td>MaleFemaleFemaleMaleMaleFemaleMaleMaleMaleMale...</td>\n",
       "      <td>160.119.8.119210.51.172.132118.251.45.4363.242...</td>\n",
       "      <td>1017.45</td>\n",
       "      <td>2160.0</td>\n",
       "    </tr>\n",
       "    <tr>\n",
       "      <th>France</th>\n",
       "      <td>214440</td>\n",
       "      <td>03/08/202103/23/202103/24/202103/16/202103/12/...</td>\n",
       "      <td>CodiGuglielmaCullJudyeJeffreyJilleneTreschaCha...</td>\n",
       "      <td>FeasleyGookesVassieBehanStanmanBaudiMcCuddenGr...</td>\n",
       "      <td>cfeasley7@ed.govggookes9@amazon.co.ukcvassied@...</td>\n",
       "      <td>MaleMaleFemaleFemaleFemaleFemaleMaleMaleFemale...</td>\n",
       "      <td>26.190.191.249169.100.6.018.203.61.9427.196.2....</td>\n",
       "      <td>2619.61</td>\n",
       "      <td>5100.0</td>\n",
       "    </tr>\n",
       "    <tr>\n",
       "      <th>Morocco</th>\n",
       "      <td>26591</td>\n",
       "      <td>03/24/202103/28/202103/22/202103/28/202103/21/...</td>\n",
       "      <td>KanyaTommiToniaPenelopeRandyLayKristalEthelinW...</td>\n",
       "      <td>BeasantDitchburnJacquemeBroodTiebeBouchierKett...</td>\n",
       "      <td>kbeasant4@jigsy.comtditchburnu@bbc.co.uktjacqu...</td>\n",
       "      <td>MaleFemaleMaleMaleFemaleMaleFemaleFemaleMaleFe...</td>\n",
       "      <td>106.252.162.2338.92.173.3865.151.183.165223.23...</td>\n",
       "      <td>362.97</td>\n",
       "      <td>780.0</td>\n",
       "    </tr>\n",
       "    <tr>\n",
       "      <th>United States</th>\n",
       "      <td>168150</td>\n",
       "      <td>03/17/202103/19/202103/25/202103/16/202103/21/...</td>\n",
       "      <td>ErlGrataTitosBailieOralieJulinaEveEstaNobeElys...</td>\n",
       "      <td>KilminsterBrantlBraybrookeWymanMaryonFaintAlla...</td>\n",
       "      <td>ekilminster2@etsy.comgbrantl3@umn.edutbraybroo...</td>\n",
       "      <td>MaleFemaleFemaleMaleFemaleFemaleFemaleFemaleMa...</td>\n",
       "      <td>213.8.101.1455.140.237.101173.100.21.179222.60...</td>\n",
       "      <td>2183.67</td>\n",
       "      <td>4520.0</td>\n",
       "    </tr>\n",
       "  </tbody>\n",
       "</table>\n",
       "</div>"
      ],
      "text/plain": [
       "                   id                                               date  \\\n",
       "country                                                                    \n",
       "Canada          70365  03/28/202103/19/202103/14/202103/09/202103/11/...   \n",
       "France         214440  03/08/202103/23/202103/24/202103/16/202103/12/...   \n",
       "Morocco         26591  03/24/202103/28/202103/22/202103/28/202103/21/...   \n",
       "United States  168150  03/17/202103/19/202103/25/202103/16/202103/21/...   \n",
       "\n",
       "                                                      first_name  \\\n",
       "country                                                            \n",
       "Canada         MarylinHindaAvaWaylonLiefJaniceSibealMendieMur...   \n",
       "France         CodiGuglielmaCullJudyeJeffreyJilleneTreschaCha...   \n",
       "Morocco        KanyaTommiToniaPenelopeRandyLayKristalEthelinW...   \n",
       "United States  ErlGrataTitosBailieOralieJulinaEveEstaNobeElys...   \n",
       "\n",
       "                                                       last_name  \\\n",
       "country                                                            \n",
       "Canada         AldersHarridgeKencottHeersemaWoodcraftMorillas...   \n",
       "France         FeasleyGookesVassieBehanStanmanBaudiMcCuddenGr...   \n",
       "Morocco        BeasantDitchburnJacquemeBroodTiebeBouchierKett...   \n",
       "United States  KilminsterBrantlBraybrookeWymanMaryonFaintAlla...   \n",
       "\n",
       "                                                           email  \\\n",
       "country                                                            \n",
       "Canada         malders0@shop-pro.jphharridge1@gnu.orgakencott...   \n",
       "France         cfeasley7@ed.govggookes9@amazon.co.ukcvassied@...   \n",
       "Morocco        kbeasant4@jigsy.comtditchburnu@bbc.co.uktjacqu...   \n",
       "United States  ekilminster2@etsy.comgbrantl3@umn.edutbraybroo...   \n",
       "\n",
       "                                                          gender  \\\n",
       "country                                                            \n",
       "Canada         MaleFemaleFemaleMaleMaleFemaleMaleMaleMaleMale...   \n",
       "France         MaleMaleFemaleFemaleFemaleFemaleMaleMaleFemale...   \n",
       "Morocco        MaleFemaleMaleMaleFemaleMaleFemaleFemaleMaleFe...   \n",
       "United States  MaleFemaleFemaleMaleFemaleFemaleFemaleFemaleMa...   \n",
       "\n",
       "                                                      ip_address  price_paid  \\\n",
       "country                                                                        \n",
       "Canada         160.119.8.119210.51.172.132118.251.45.4363.242...     1017.45   \n",
       "France         26.190.191.249169.100.6.018.203.61.9427.196.2....     2619.61   \n",
       "Morocco        106.252.162.2338.92.173.3865.151.183.165223.23...      362.97   \n",
       "United States  213.8.101.1455.140.237.101173.100.21.179222.60...     2183.67   \n",
       "\n",
       "                  tax  \n",
       "country                \n",
       "Canada         2160.0  \n",
       "France         5100.0  \n",
       "Morocco         780.0  \n",
       "United States  4520.0  "
      ]
     },
     "execution_count": 16,
     "metadata": {},
     "output_type": "execute_result"
    }
   ],
   "source": [
    "df.groupby('country').sum()"
   ]
  },
  {
   "cell_type": "code",
   "execution_count": 20,
   "id": "e49c6251-b125-440b-8efa-2984f360ecd1",
   "metadata": {},
   "outputs": [
    {
     "data": {
      "text/plain": [
       "gender\n",
       "Female    6.420406\n",
       "Male      6.469429\n",
       "Name: price_paid, dtype: float64"
      ]
     },
     "execution_count": 20,
     "metadata": {},
     "output_type": "execute_result"
    }
   ],
   "source": [
    "df.groupby('gender')['price_paid'].mean()"
   ]
  },
  {
   "cell_type": "code",
   "execution_count": 26,
   "id": "7be52e6d-7f99-4265-82bb-dc04711ec448",
   "metadata": {},
   "outputs": [
    {
     "data": {
      "text/plain": [
       "gender  country      \n",
       "Female  Canada           6.419324\n",
       "        France           6.350352\n",
       "        Morocco          7.024815\n",
       "        United States    6.437118\n",
       "Male    Canada           6.117467\n",
       "        France           6.498950\n",
       "        Morocco          6.146957\n",
       "        United States    6.672500\n",
       "Name: price_paid, dtype: float64"
      ]
     },
     "execution_count": 26,
     "metadata": {},
     "output_type": "execute_result"
    }
   ],
   "source": [
    "df.groupby(['gender', 'country'])['price_paid'].mean()"
   ]
  },
  {
   "cell_type": "code",
   "execution_count": null,
   "id": "6ac0f40d-05a5-4df5-8740-710688c882a0",
   "metadata": {},
   "outputs": [],
   "source": []
  }
 ],
 "metadata": {
  "kernelspec": {
   "display_name": "Python 3 (ipykernel)",
   "language": "python",
   "name": "python3"
  },
  "language_info": {
   "codemirror_mode": {
    "name": "ipython",
    "version": 3
   },
   "file_extension": ".py",
   "mimetype": "text/x-python",
   "name": "python",
   "nbconvert_exporter": "python",
   "pygments_lexer": "ipython3",
   "version": "3.13.2"
  }
 },
 "nbformat": 4,
 "nbformat_minor": 5
}
