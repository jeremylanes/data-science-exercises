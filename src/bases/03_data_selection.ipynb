{
 "cells": [
  {
   "cell_type": "markdown",
   "id": "0c825490-8299-4494-9396-816c242635f3",
   "metadata": {},
   "source": [
    "# Data Selection"
   ]
  },
  {
   "cell_type": "code",
   "execution_count": 1,
   "id": "5db23d37-3bc4-465f-839f-260fb0f674d0",
   "metadata": {},
   "outputs": [],
   "source": [
    "import pandas as pd\n",
    "df = pd.read_csv('../data.csv')"
   ]
  },
  {
   "cell_type": "code",
   "execution_count": 2,
   "id": "f48add76-4ee8-454b-a020-90b011874ac6",
   "metadata": {},
   "outputs": [
    {
     "data": {
      "text/html": [
       "<div>\n",
       "<style scoped>\n",
       "    .dataframe tbody tr th:only-of-type {\n",
       "        vertical-align: middle;\n",
       "    }\n",
       "\n",
       "    .dataframe tbody tr th {\n",
       "        vertical-align: top;\n",
       "    }\n",
       "\n",
       "    .dataframe thead th {\n",
       "        text-align: right;\n",
       "    }\n",
       "</style>\n",
       "<table border=\"1\" class=\"dataframe\">\n",
       "  <thead>\n",
       "    <tr style=\"text-align: right;\">\n",
       "      <th></th>\n",
       "      <th>id</th>\n",
       "      <th>date</th>\n",
       "      <th>first_name</th>\n",
       "      <th>last_name</th>\n",
       "      <th>email</th>\n",
       "      <th>gender</th>\n",
       "      <th>ip_address</th>\n",
       "      <th>country</th>\n",
       "      <th>price_paid</th>\n",
       "      <th>tax</th>\n",
       "    </tr>\n",
       "  </thead>\n",
       "  <tbody>\n",
       "    <tr>\n",
       "      <th>0</th>\n",
       "      <td>1</td>\n",
       "      <td>03/28/2021</td>\n",
       "      <td>Marylin</td>\n",
       "      <td>Alders</td>\n",
       "      <td>malders0@shop-pro.jp</td>\n",
       "      <td>Male</td>\n",
       "      <td>160.119.8.119</td>\n",
       "      <td>Canada</td>\n",
       "      <td>$5.36</td>\n",
       "      <td>NaN</td>\n",
       "    </tr>\n",
       "    <tr>\n",
       "      <th>1</th>\n",
       "      <td>2</td>\n",
       "      <td>03/19/2021</td>\n",
       "      <td>Hinda</td>\n",
       "      <td>Harridge</td>\n",
       "      <td>hharridge1@gnu.org</td>\n",
       "      <td>Female</td>\n",
       "      <td>210.51.172.132</td>\n",
       "      <td>Canada</td>\n",
       "      <td>$8.32</td>\n",
       "      <td>NaN</td>\n",
       "    </tr>\n",
       "    <tr>\n",
       "      <th>2</th>\n",
       "      <td>3</td>\n",
       "      <td>03/17/2021</td>\n",
       "      <td>Erl</td>\n",
       "      <td>Kilminster</td>\n",
       "      <td>ekilminster2@etsy.com</td>\n",
       "      <td>Male</td>\n",
       "      <td>213.8.101.145</td>\n",
       "      <td>United States</td>\n",
       "      <td>$3.73</td>\n",
       "      <td>20.0</td>\n",
       "    </tr>\n",
       "    <tr>\n",
       "      <th>3</th>\n",
       "      <td>4</td>\n",
       "      <td>03/19/2021</td>\n",
       "      <td>Grata</td>\n",
       "      <td>Brantl</td>\n",
       "      <td>gbrantl3@umn.edu</td>\n",
       "      <td>Female</td>\n",
       "      <td>5.140.237.101</td>\n",
       "      <td>United States</td>\n",
       "      <td>$3.70</td>\n",
       "      <td>20.0</td>\n",
       "    </tr>\n",
       "    <tr>\n",
       "      <th>4</th>\n",
       "      <td>5</td>\n",
       "      <td>03/24/2021</td>\n",
       "      <td>Kanya</td>\n",
       "      <td>Beasant</td>\n",
       "      <td>kbeasant4@jigsy.com</td>\n",
       "      <td>Male</td>\n",
       "      <td>106.252.162.233</td>\n",
       "      <td>Morocco</td>\n",
       "      <td>$9.24</td>\n",
       "      <td>20.0</td>\n",
       "    </tr>\n",
       "  </tbody>\n",
       "</table>\n",
       "</div>"
      ],
      "text/plain": [
       "   id        date first_name   last_name                  email  gender  \\\n",
       "0   1  03/28/2021    Marylin      Alders   malders0@shop-pro.jp    Male   \n",
       "1   2  03/19/2021      Hinda    Harridge     hharridge1@gnu.org  Female   \n",
       "2   3  03/17/2021        Erl  Kilminster  ekilminster2@etsy.com    Male   \n",
       "3   4  03/19/2021      Grata      Brantl       gbrantl3@umn.edu  Female   \n",
       "4   5  03/24/2021      Kanya     Beasant    kbeasant4@jigsy.com    Male   \n",
       "\n",
       "        ip_address        country price_paid   tax  \n",
       "0    160.119.8.119         Canada      $5.36   NaN  \n",
       "1   210.51.172.132         Canada      $8.32   NaN  \n",
       "2    213.8.101.145  United States      $3.73  20.0  \n",
       "3    5.140.237.101  United States      $3.70  20.0  \n",
       "4  106.252.162.233        Morocco      $9.24  20.0  "
      ]
     },
     "execution_count": 2,
     "metadata": {},
     "output_type": "execute_result"
    }
   ],
   "source": [
    "df.head()"
   ]
  },
  {
   "cell_type": "code",
   "execution_count": 3,
   "id": "95118588-846b-4116-8839-dd8905493525",
   "metadata": {},
   "outputs": [
    {
     "data": {
      "text/plain": [
       "0     malders0@shop-pro.jp\n",
       "1       hharridge1@gnu.org\n",
       "2    ekilminster2@etsy.com\n",
       "3         gbrantl3@umn.edu\n",
       "4      kbeasant4@jigsy.com\n",
       "Name: email, dtype: object"
      ]
     },
     "execution_count": 3,
     "metadata": {},
     "output_type": "execute_result"
    }
   ],
   "source": [
    "df['email'].head()"
   ]
  },
  {
   "cell_type": "code",
   "execution_count": 4,
   "id": "2573fe47-11f1-4b6d-9252-a70364e87dd4",
   "metadata": {},
   "outputs": [
    {
     "data": {
      "text/plain": [
       "0     malders0@shop-pro.jp\n",
       "1       hharridge1@gnu.org\n",
       "2    ekilminster2@etsy.com\n",
       "3         gbrantl3@umn.edu\n",
       "4      kbeasant4@jigsy.com\n",
       "Name: email, dtype: object"
      ]
     },
     "execution_count": 4,
     "metadata": {},
     "output_type": "execute_result"
    }
   ],
   "source": [
    "df.email.head()"
   ]
  },
  {
   "cell_type": "code",
   "execution_count": 5,
   "id": "66a8e59b-c5b7-49d9-b257-7a153bf90019",
   "metadata": {},
   "outputs": [
    {
     "data": {
      "text/plain": [
       "pandas.core.frame.DataFrame"
      ]
     },
     "execution_count": 5,
     "metadata": {},
     "output_type": "execute_result"
    }
   ],
   "source": [
    "type(df)"
   ]
  },
  {
   "cell_type": "code",
   "execution_count": 6,
   "id": "59e5fdf1-6aa1-47e1-8e10-ed134baf1d6b",
   "metadata": {},
   "outputs": [
    {
     "data": {
      "text/plain": [
       "pandas.core.series.Series"
      ]
     },
     "execution_count": 6,
     "metadata": {},
     "output_type": "execute_result"
    }
   ],
   "source": [
    "type(df.email)"
   ]
  },
  {
   "cell_type": "code",
   "execution_count": 7,
   "id": "f41e44cf-86aa-480b-8a60-2d47edca3513",
   "metadata": {},
   "outputs": [
    {
     "data": {
      "text/html": [
       "<div>\n",
       "<style scoped>\n",
       "    .dataframe tbody tr th:only-of-type {\n",
       "        vertical-align: middle;\n",
       "    }\n",
       "\n",
       "    .dataframe tbody tr th {\n",
       "        vertical-align: top;\n",
       "    }\n",
       "\n",
       "    .dataframe thead th {\n",
       "        text-align: right;\n",
       "    }\n",
       "</style>\n",
       "<table border=\"1\" class=\"dataframe\">\n",
       "  <thead>\n",
       "    <tr style=\"text-align: right;\">\n",
       "      <th></th>\n",
       "      <th>id</th>\n",
       "      <th>date</th>\n",
       "      <th>first_name</th>\n",
       "      <th>last_name</th>\n",
       "      <th>email</th>\n",
       "      <th>gender</th>\n",
       "      <th>ip_address</th>\n",
       "      <th>country</th>\n",
       "      <th>price_paid</th>\n",
       "      <th>tax</th>\n",
       "    </tr>\n",
       "  </thead>\n",
       "  <tbody>\n",
       "    <tr>\n",
       "      <th>10</th>\n",
       "      <td>11</td>\n",
       "      <td>03/11/2021</td>\n",
       "      <td>Lief</td>\n",
       "      <td>Woodcraft</td>\n",
       "      <td>lwoodcrafta@sitemeter.com</td>\n",
       "      <td>Male</td>\n",
       "      <td>201.76.240.51</td>\n",
       "      <td>Canada</td>\n",
       "      <td>$5.71</td>\n",
       "      <td>NaN</td>\n",
       "    </tr>\n",
       "    <tr>\n",
       "      <th>11</th>\n",
       "      <td>12</td>\n",
       "      <td>03/16/2021</td>\n",
       "      <td>Bailie</td>\n",
       "      <td>Wyman</td>\n",
       "      <td>bwymanb@lulu.com</td>\n",
       "      <td>Male</td>\n",
       "      <td>222.60.138.222</td>\n",
       "      <td>United States</td>\n",
       "      <td>$3.15</td>\n",
       "      <td>20.0</td>\n",
       "    </tr>\n",
       "    <tr>\n",
       "      <th>12</th>\n",
       "      <td>13</td>\n",
       "      <td>03/05/2021</td>\n",
       "      <td>Janice</td>\n",
       "      <td>Morillas</td>\n",
       "      <td>jmorillasc@miibeian.gov.cn</td>\n",
       "      <td>Female</td>\n",
       "      <td>24.25.198.252</td>\n",
       "      <td>Canada</td>\n",
       "      <td>$5.30</td>\n",
       "      <td>20.0</td>\n",
       "    </tr>\n",
       "    <tr>\n",
       "      <th>13</th>\n",
       "      <td>14</td>\n",
       "      <td>03/24/2021</td>\n",
       "      <td>Cull</td>\n",
       "      <td>Vassie</td>\n",
       "      <td>cvassied@unblog.fr</td>\n",
       "      <td>NaN</td>\n",
       "      <td>18.203.61.94</td>\n",
       "      <td>France</td>\n",
       "      <td>$5.97</td>\n",
       "      <td>20.0</td>\n",
       "    </tr>\n",
       "    <tr>\n",
       "      <th>14</th>\n",
       "      <td>15</td>\n",
       "      <td>03/21/2021</td>\n",
       "      <td>Oralie</td>\n",
       "      <td>Maryon</td>\n",
       "      <td>omaryone@va.gov</td>\n",
       "      <td>Female</td>\n",
       "      <td>215.248.16.198</td>\n",
       "      <td>United States</td>\n",
       "      <td>$4.53</td>\n",
       "      <td>20.0</td>\n",
       "    </tr>\n",
       "    <tr>\n",
       "      <th>15</th>\n",
       "      <td>16</td>\n",
       "      <td>03/24/2021</td>\n",
       "      <td>Julina</td>\n",
       "      <td>Faint</td>\n",
       "      <td>jfaintf@amazon.co.jp</td>\n",
       "      <td>Female</td>\n",
       "      <td>96.193.4.151</td>\n",
       "      <td>United States</td>\n",
       "      <td>$4.10</td>\n",
       "      <td>20.0</td>\n",
       "    </tr>\n",
       "    <tr>\n",
       "      <th>16</th>\n",
       "      <td>17</td>\n",
       "      <td>03/27/2021</td>\n",
       "      <td>Eve</td>\n",
       "      <td>Allaway</td>\n",
       "      <td>eallawayg@ebay.co.uk</td>\n",
       "      <td>Female</td>\n",
       "      <td>184.107.59.156</td>\n",
       "      <td>United States</td>\n",
       "      <td>$6.44</td>\n",
       "      <td>20.0</td>\n",
       "    </tr>\n",
       "    <tr>\n",
       "      <th>17</th>\n",
       "      <td>18</td>\n",
       "      <td>03/20/2021</td>\n",
       "      <td>Esta</td>\n",
       "      <td>Boulden</td>\n",
       "      <td>ebouldenh@posterous.com</td>\n",
       "      <td>NaN</td>\n",
       "      <td>220.109.140.190</td>\n",
       "      <td>United States</td>\n",
       "      <td>$3.16</td>\n",
       "      <td>20.0</td>\n",
       "    </tr>\n",
       "    <tr>\n",
       "      <th>18</th>\n",
       "      <td>19</td>\n",
       "      <td>03/16/2021</td>\n",
       "      <td>Judye</td>\n",
       "      <td>Behan</td>\n",
       "      <td>jbehani@google.es</td>\n",
       "      <td>Female</td>\n",
       "      <td>27.196.2.18</td>\n",
       "      <td>France</td>\n",
       "      <td>$4.90</td>\n",
       "      <td>20.0</td>\n",
       "    </tr>\n",
       "    <tr>\n",
       "      <th>19</th>\n",
       "      <td>20</td>\n",
       "      <td>03/01/2021</td>\n",
       "      <td>Sibeal</td>\n",
       "      <td>Mounch</td>\n",
       "      <td>smounchj@rakuten.co.jp</td>\n",
       "      <td>Male</td>\n",
       "      <td>218.17.7.177</td>\n",
       "      <td>Canada</td>\n",
       "      <td>$5.82</td>\n",
       "      <td>20.0</td>\n",
       "    </tr>\n",
       "  </tbody>\n",
       "</table>\n",
       "</div>"
      ],
      "text/plain": [
       "    id        date first_name  last_name                       email  gender  \\\n",
       "10  11  03/11/2021       Lief  Woodcraft   lwoodcrafta@sitemeter.com    Male   \n",
       "11  12  03/16/2021     Bailie      Wyman            bwymanb@lulu.com    Male   \n",
       "12  13  03/05/2021     Janice   Morillas  jmorillasc@miibeian.gov.cn  Female   \n",
       "13  14  03/24/2021       Cull     Vassie          cvassied@unblog.fr     NaN   \n",
       "14  15  03/21/2021     Oralie     Maryon             omaryone@va.gov  Female   \n",
       "15  16  03/24/2021     Julina      Faint        jfaintf@amazon.co.jp  Female   \n",
       "16  17  03/27/2021        Eve    Allaway        eallawayg@ebay.co.uk  Female   \n",
       "17  18  03/20/2021       Esta    Boulden     ebouldenh@posterous.com     NaN   \n",
       "18  19  03/16/2021      Judye      Behan           jbehani@google.es  Female   \n",
       "19  20  03/01/2021     Sibeal     Mounch      smounchj@rakuten.co.jp    Male   \n",
       "\n",
       "         ip_address        country price_paid   tax  \n",
       "10    201.76.240.51         Canada      $5.71   NaN  \n",
       "11   222.60.138.222  United States      $3.15  20.0  \n",
       "12    24.25.198.252         Canada      $5.30  20.0  \n",
       "13     18.203.61.94         France      $5.97  20.0  \n",
       "14   215.248.16.198  United States      $4.53  20.0  \n",
       "15     96.193.4.151  United States      $4.10  20.0  \n",
       "16   184.107.59.156  United States      $6.44  20.0  \n",
       "17  220.109.140.190  United States      $3.16  20.0  \n",
       "18      27.196.2.18         France      $4.90  20.0  \n",
       "19     218.17.7.177         Canada      $5.82  20.0  "
      ]
     },
     "execution_count": 7,
     "metadata": {},
     "output_type": "execute_result"
    }
   ],
   "source": [
    "df[10:20]"
   ]
  },
  {
   "cell_type": "code",
   "execution_count": 8,
   "id": "cf3c6f78-ff4b-40ac-b473-cc0a14ed8bbb",
   "metadata": {},
   "outputs": [
    {
     "data": {
      "text/html": [
       "<div>\n",
       "<style scoped>\n",
       "    .dataframe tbody tr th:only-of-type {\n",
       "        vertical-align: middle;\n",
       "    }\n",
       "\n",
       "    .dataframe tbody tr th {\n",
       "        vertical-align: top;\n",
       "    }\n",
       "\n",
       "    .dataframe thead th {\n",
       "        text-align: right;\n",
       "    }\n",
       "</style>\n",
       "<table border=\"1\" class=\"dataframe\">\n",
       "  <thead>\n",
       "    <tr style=\"text-align: right;\">\n",
       "      <th></th>\n",
       "      <th>id</th>\n",
       "      <th>date</th>\n",
       "      <th>first_name</th>\n",
       "      <th>last_name</th>\n",
       "      <th>email</th>\n",
       "      <th>gender</th>\n",
       "      <th>ip_address</th>\n",
       "      <th>country</th>\n",
       "      <th>price_paid</th>\n",
       "      <th>tax</th>\n",
       "    </tr>\n",
       "  </thead>\n",
       "  <tbody>\n",
       "    <tr>\n",
       "      <th>10</th>\n",
       "      <td>11</td>\n",
       "      <td>03/11/2021</td>\n",
       "      <td>Lief</td>\n",
       "      <td>Woodcraft</td>\n",
       "      <td>lwoodcrafta@sitemeter.com</td>\n",
       "      <td>Male</td>\n",
       "      <td>201.76.240.51</td>\n",
       "      <td>Canada</td>\n",
       "      <td>$5.71</td>\n",
       "      <td>NaN</td>\n",
       "    </tr>\n",
       "    <tr>\n",
       "      <th>12</th>\n",
       "      <td>13</td>\n",
       "      <td>03/05/2021</td>\n",
       "      <td>Janice</td>\n",
       "      <td>Morillas</td>\n",
       "      <td>jmorillasc@miibeian.gov.cn</td>\n",
       "      <td>Female</td>\n",
       "      <td>24.25.198.252</td>\n",
       "      <td>Canada</td>\n",
       "      <td>$5.30</td>\n",
       "      <td>20.0</td>\n",
       "    </tr>\n",
       "    <tr>\n",
       "      <th>14</th>\n",
       "      <td>15</td>\n",
       "      <td>03/21/2021</td>\n",
       "      <td>Oralie</td>\n",
       "      <td>Maryon</td>\n",
       "      <td>omaryone@va.gov</td>\n",
       "      <td>Female</td>\n",
       "      <td>215.248.16.198</td>\n",
       "      <td>United States</td>\n",
       "      <td>$4.53</td>\n",
       "      <td>20.0</td>\n",
       "    </tr>\n",
       "    <tr>\n",
       "      <th>16</th>\n",
       "      <td>17</td>\n",
       "      <td>03/27/2021</td>\n",
       "      <td>Eve</td>\n",
       "      <td>Allaway</td>\n",
       "      <td>eallawayg@ebay.co.uk</td>\n",
       "      <td>Female</td>\n",
       "      <td>184.107.59.156</td>\n",
       "      <td>United States</td>\n",
       "      <td>$6.44</td>\n",
       "      <td>20.0</td>\n",
       "    </tr>\n",
       "    <tr>\n",
       "      <th>18</th>\n",
       "      <td>19</td>\n",
       "      <td>03/16/2021</td>\n",
       "      <td>Judye</td>\n",
       "      <td>Behan</td>\n",
       "      <td>jbehani@google.es</td>\n",
       "      <td>Female</td>\n",
       "      <td>27.196.2.18</td>\n",
       "      <td>France</td>\n",
       "      <td>$4.90</td>\n",
       "      <td>20.0</td>\n",
       "    </tr>\n",
       "  </tbody>\n",
       "</table>\n",
       "</div>"
      ],
      "text/plain": [
       "    id        date first_name  last_name                       email  gender  \\\n",
       "10  11  03/11/2021       Lief  Woodcraft   lwoodcrafta@sitemeter.com    Male   \n",
       "12  13  03/05/2021     Janice   Morillas  jmorillasc@miibeian.gov.cn  Female   \n",
       "14  15  03/21/2021     Oralie     Maryon             omaryone@va.gov  Female   \n",
       "16  17  03/27/2021        Eve    Allaway        eallawayg@ebay.co.uk  Female   \n",
       "18  19  03/16/2021      Judye      Behan           jbehani@google.es  Female   \n",
       "\n",
       "        ip_address        country price_paid   tax  \n",
       "10   201.76.240.51         Canada      $5.71   NaN  \n",
       "12   24.25.198.252         Canada      $5.30  20.0  \n",
       "14  215.248.16.198  United States      $4.53  20.0  \n",
       "16  184.107.59.156  United States      $6.44  20.0  \n",
       "18     27.196.2.18         France      $4.90  20.0  "
      ]
     },
     "execution_count": 8,
     "metadata": {},
     "output_type": "execute_result"
    }
   ],
   "source": [
    "df.loc[10:18:2]"
   ]
  },
  {
   "cell_type": "code",
   "execution_count": 9,
   "id": "560f178f-157c-438d-aac3-123edd3ead45",
   "metadata": {},
   "outputs": [],
   "source": [
    "df_email = df.set_index('email')"
   ]
  },
  {
   "cell_type": "code",
   "execution_count": 10,
   "id": "ffc69941-979d-4e47-a032-0bb3344dfbca",
   "metadata": {},
   "outputs": [
    {
     "data": {
      "text/html": [
       "<div>\n",
       "<style scoped>\n",
       "    .dataframe tbody tr th:only-of-type {\n",
       "        vertical-align: middle;\n",
       "    }\n",
       "\n",
       "    .dataframe tbody tr th {\n",
       "        vertical-align: top;\n",
       "    }\n",
       "\n",
       "    .dataframe thead th {\n",
       "        text-align: right;\n",
       "    }\n",
       "</style>\n",
       "<table border=\"1\" class=\"dataframe\">\n",
       "  <thead>\n",
       "    <tr style=\"text-align: right;\">\n",
       "      <th></th>\n",
       "      <th>id</th>\n",
       "      <th>date</th>\n",
       "      <th>first_name</th>\n",
       "      <th>last_name</th>\n",
       "      <th>gender</th>\n",
       "      <th>ip_address</th>\n",
       "      <th>country</th>\n",
       "      <th>price_paid</th>\n",
       "      <th>tax</th>\n",
       "    </tr>\n",
       "    <tr>\n",
       "      <th>email</th>\n",
       "      <th></th>\n",
       "      <th></th>\n",
       "      <th></th>\n",
       "      <th></th>\n",
       "      <th></th>\n",
       "      <th></th>\n",
       "      <th></th>\n",
       "      <th></th>\n",
       "      <th></th>\n",
       "    </tr>\n",
       "  </thead>\n",
       "  <tbody>\n",
       "    <tr>\n",
       "      <th>malders0@shop-pro.jp</th>\n",
       "      <td>1</td>\n",
       "      <td>03/28/2021</td>\n",
       "      <td>Marylin</td>\n",
       "      <td>Alders</td>\n",
       "      <td>Male</td>\n",
       "      <td>160.119.8.119</td>\n",
       "      <td>Canada</td>\n",
       "      <td>$5.36</td>\n",
       "      <td>NaN</td>\n",
       "    </tr>\n",
       "    <tr>\n",
       "      <th>hharridge1@gnu.org</th>\n",
       "      <td>2</td>\n",
       "      <td>03/19/2021</td>\n",
       "      <td>Hinda</td>\n",
       "      <td>Harridge</td>\n",
       "      <td>Female</td>\n",
       "      <td>210.51.172.132</td>\n",
       "      <td>Canada</td>\n",
       "      <td>$8.32</td>\n",
       "      <td>NaN</td>\n",
       "    </tr>\n",
       "    <tr>\n",
       "      <th>ekilminster2@etsy.com</th>\n",
       "      <td>3</td>\n",
       "      <td>03/17/2021</td>\n",
       "      <td>Erl</td>\n",
       "      <td>Kilminster</td>\n",
       "      <td>Male</td>\n",
       "      <td>213.8.101.145</td>\n",
       "      <td>United States</td>\n",
       "      <td>$3.73</td>\n",
       "      <td>20.0</td>\n",
       "    </tr>\n",
       "    <tr>\n",
       "      <th>gbrantl3@umn.edu</th>\n",
       "      <td>4</td>\n",
       "      <td>03/19/2021</td>\n",
       "      <td>Grata</td>\n",
       "      <td>Brantl</td>\n",
       "      <td>Female</td>\n",
       "      <td>5.140.237.101</td>\n",
       "      <td>United States</td>\n",
       "      <td>$3.70</td>\n",
       "      <td>20.0</td>\n",
       "    </tr>\n",
       "    <tr>\n",
       "      <th>kbeasant4@jigsy.com</th>\n",
       "      <td>5</td>\n",
       "      <td>03/24/2021</td>\n",
       "      <td>Kanya</td>\n",
       "      <td>Beasant</td>\n",
       "      <td>Male</td>\n",
       "      <td>106.252.162.233</td>\n",
       "      <td>Morocco</td>\n",
       "      <td>$9.24</td>\n",
       "      <td>20.0</td>\n",
       "    </tr>\n",
       "  </tbody>\n",
       "</table>\n",
       "</div>"
      ],
      "text/plain": [
       "                       id        date first_name   last_name  gender  \\\n",
       "email                                                                  \n",
       "malders0@shop-pro.jp    1  03/28/2021    Marylin      Alders    Male   \n",
       "hharridge1@gnu.org      2  03/19/2021      Hinda    Harridge  Female   \n",
       "ekilminster2@etsy.com   3  03/17/2021        Erl  Kilminster    Male   \n",
       "gbrantl3@umn.edu        4  03/19/2021      Grata      Brantl  Female   \n",
       "kbeasant4@jigsy.com     5  03/24/2021      Kanya     Beasant    Male   \n",
       "\n",
       "                            ip_address        country price_paid   tax  \n",
       "email                                                                   \n",
       "malders0@shop-pro.jp     160.119.8.119         Canada      $5.36   NaN  \n",
       "hharridge1@gnu.org      210.51.172.132         Canada      $8.32   NaN  \n",
       "ekilminster2@etsy.com    213.8.101.145  United States      $3.73  20.0  \n",
       "gbrantl3@umn.edu         5.140.237.101  United States      $3.70  20.0  \n",
       "kbeasant4@jigsy.com    106.252.162.233        Morocco      $9.24  20.0  "
      ]
     },
     "execution_count": 10,
     "metadata": {},
     "output_type": "execute_result"
    }
   ],
   "source": [
    "df_email.head()"
   ]
  },
  {
   "cell_type": "code",
   "execution_count": 11,
   "id": "cfc3fc0f-2657-4463-9293-c253700ed671",
   "metadata": {},
   "outputs": [],
   "source": [
    "email = df_email.loc['hharridge1@gnu.org']"
   ]
  },
  {
   "cell_type": "code",
   "execution_count": 12,
   "id": "3ea016da-a5a3-4e96-9cca-423933c09288",
   "metadata": {},
   "outputs": [
    {
     "data": {
      "text/plain": [
       "id                         2\n",
       "date              03/19/2021\n",
       "first_name             Hinda\n",
       "last_name           Harridge\n",
       "gender                Female\n",
       "ip_address    210.51.172.132\n",
       "country               Canada\n",
       "price_paid             $8.32\n",
       "tax                      NaN\n",
       "Name: hharridge1@gnu.org, dtype: object"
      ]
     },
     "execution_count": 12,
     "metadata": {},
     "output_type": "execute_result"
    }
   ],
   "source": [
    "email"
   ]
  },
  {
   "cell_type": "code",
   "execution_count": 13,
   "id": "a8ec1e90-f4bf-43e7-851d-3171b7ed8bee",
   "metadata": {},
   "outputs": [
    {
     "data": {
      "text/plain": [
       "pandas.core.series.Series"
      ]
     },
     "execution_count": 13,
     "metadata": {},
     "output_type": "execute_result"
    }
   ],
   "source": [
    "type(email)"
   ]
  },
  {
   "cell_type": "code",
   "execution_count": 14,
   "id": "d07a7693-b73e-4c02-a432-ee680ff338f2",
   "metadata": {},
   "outputs": [
    {
     "data": {
      "text/plain": [
       "[np.int64(2),\n",
       " '03/19/2021',\n",
       " 'Hinda',\n",
       " 'Harridge',\n",
       " 'Female',\n",
       " '210.51.172.132',\n",
       " 'Canada',\n",
       " '$8.32',\n",
       " np.float64(nan)]"
      ]
     },
     "execution_count": 14,
     "metadata": {},
     "output_type": "execute_result"
    }
   ],
   "source": [
    "email.values.tolist()"
   ]
  },
  {
   "cell_type": "code",
   "execution_count": 15,
   "id": "b546f1e1-09f5-49a9-9a1a-c981fcf7445a",
   "metadata": {},
   "outputs": [
    {
     "data": {
      "text/html": [
       "<div>\n",
       "<style scoped>\n",
       "    .dataframe tbody tr th:only-of-type {\n",
       "        vertical-align: middle;\n",
       "    }\n",
       "\n",
       "    .dataframe tbody tr th {\n",
       "        vertical-align: top;\n",
       "    }\n",
       "\n",
       "    .dataframe thead th {\n",
       "        text-align: right;\n",
       "    }\n",
       "</style>\n",
       "<table border=\"1\" class=\"dataframe\">\n",
       "  <thead>\n",
       "    <tr style=\"text-align: right;\">\n",
       "      <th></th>\n",
       "      <th>id</th>\n",
       "      <th>date</th>\n",
       "      <th>first_name</th>\n",
       "      <th>last_name</th>\n",
       "      <th>gender</th>\n",
       "      <th>ip_address</th>\n",
       "      <th>country</th>\n",
       "      <th>price_paid</th>\n",
       "      <th>tax</th>\n",
       "    </tr>\n",
       "    <tr>\n",
       "      <th>email</th>\n",
       "      <th></th>\n",
       "      <th></th>\n",
       "      <th></th>\n",
       "      <th></th>\n",
       "      <th></th>\n",
       "      <th></th>\n",
       "      <th></th>\n",
       "      <th></th>\n",
       "      <th></th>\n",
       "    </tr>\n",
       "  </thead>\n",
       "  <tbody>\n",
       "    <tr>\n",
       "      <th>hharridge1@gnu.org</th>\n",
       "      <td>2</td>\n",
       "      <td>03/19/2021</td>\n",
       "      <td>Hinda</td>\n",
       "      <td>Harridge</td>\n",
       "      <td>Female</td>\n",
       "      <td>210.51.172.132</td>\n",
       "      <td>Canada</td>\n",
       "      <td>$8.32</td>\n",
       "      <td>NaN</td>\n",
       "    </tr>\n",
       "    <tr>\n",
       "      <th>gbrantl3@umn.edu</th>\n",
       "      <td>4</td>\n",
       "      <td>03/19/2021</td>\n",
       "      <td>Grata</td>\n",
       "      <td>Brantl</td>\n",
       "      <td>Female</td>\n",
       "      <td>5.140.237.101</td>\n",
       "      <td>United States</td>\n",
       "      <td>$3.70</td>\n",
       "      <td>20.0</td>\n",
       "    </tr>\n",
       "  </tbody>\n",
       "</table>\n",
       "</div>"
      ],
      "text/plain": [
       "                    id        date first_name last_name  gender  \\\n",
       "email                                                             \n",
       "hharridge1@gnu.org   2  03/19/2021      Hinda  Harridge  Female   \n",
       "gbrantl3@umn.edu     4  03/19/2021      Grata    Brantl  Female   \n",
       "\n",
       "                        ip_address        country price_paid   tax  \n",
       "email                                                               \n",
       "hharridge1@gnu.org  210.51.172.132         Canada      $8.32   NaN  \n",
       "gbrantl3@umn.edu     5.140.237.101  United States      $3.70  20.0  "
      ]
     },
     "execution_count": 15,
     "metadata": {},
     "output_type": "execute_result"
    }
   ],
   "source": [
    "df_email.loc['hharridge1@gnu.org':'kbeasant4@jigsy.com':2]"
   ]
  },
  {
   "cell_type": "code",
   "execution_count": 16,
   "id": "c85da5b3-36cd-4e0a-b9bd-0395bbca46fa",
   "metadata": {},
   "outputs": [
    {
     "data": {
      "text/plain": [
       "pandas.core.frame.DataFrame"
      ]
     },
     "execution_count": 16,
     "metadata": {},
     "output_type": "execute_result"
    }
   ],
   "source": [
    "type(df_email.loc['hharridge1@gnu.org':'kbeasant4@jigsy.com':2])"
   ]
  },
  {
   "cell_type": "code",
   "execution_count": null,
   "id": "607dc021-0f4d-4d90-b76c-fed3767c32ba",
   "metadata": {},
   "outputs": [],
   "source": []
  }
 ],
 "metadata": {
  "kernelspec": {
   "display_name": "Python 3 (ipykernel)",
   "language": "python",
   "name": "python3"
  },
  "language_info": {
   "codemirror_mode": {
    "name": "ipython",
    "version": 3
   },
   "file_extension": ".py",
   "mimetype": "text/x-python",
   "name": "python",
   "nbconvert_exporter": "python",
   "pygments_lexer": "ipython3",
   "version": "3.13.2"
  }
 },
 "nbformat": 4,
 "nbformat_minor": 5
}
